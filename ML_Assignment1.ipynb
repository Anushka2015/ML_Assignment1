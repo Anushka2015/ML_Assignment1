{
 "cells": [
  {
   "cell_type": "markdown",
   "id": "e78a740d",
   "metadata": {},
   "source": [
    "# 1. What does one mean by the term \"machine learning\"?\n",
    "Ans===>Machine Learning is making the computer learn from studying data and statistics.It is a step into the direction of artificial intelligence (AI).It can also be describe as program that analyses data and learns to predict the outcome."
   ]
  },
  {
   "cell_type": "markdown",
   "id": "ac1eef4d",
   "metadata": {},
   "source": [
    "# 2.Can you think of 4 distinct types of issues where it shines?\n",
    "Ans===>1.spam detection in email\n",
    "2.cancer diagnosis\n",
    "3.fraudulent credit card transactions\n",
    "4.automatically driving vehicles."
   ]
  },
  {
   "cell_type": "markdown",
   "id": "029e5cf5",
   "metadata": {},
   "source": [
    "# 3.What is a labeled training set, and how does it work?\n",
    "Ans===>The labeled training set is used to train the algorithm, and then use the trained model on the test set to predict the response variable values that are already known. "
   ]
  },
  {
   "cell_type": "markdown",
   "id": "c304da62",
   "metadata": {},
   "source": [
    "# 4.What are the two most important tasks that are supervised?\n",
    "Ans===> Classification and Regression"
   ]
  },
  {
   "cell_type": "markdown",
   "id": "b2901835",
   "metadata": {},
   "source": [
    "# 5.Can you think of four examples of unsupervised tasks?\n",
    "Ans===>Four common unsupervised tasks inclused clustering, visualization, dimensionality reduction , and association rule learning."
   ]
  },
  {
   "cell_type": "markdown",
   "id": "470ae14b",
   "metadata": {},
   "source": [
    "# 6.State the machine learning model that would be best to make a robot walk through various unfamiliar terrains?\n",
    "Ans===>The best Machine Learning algorithm to allow a robot to walk in unknown terrain is Reinforced Learning,"
   ]
  },
  {
   "cell_type": "markdown",
   "id": "7d29da57",
   "metadata": {},
   "source": [
    "# 7.Which algorithm will you use to divide your customers into different groups?\n",
    "Ans===>Clustering Algorithm"
   ]
  },
  {
   "cell_type": "markdown",
   "id": "1b531b5f",
   "metadata": {},
   "source": [
    "# 8.Will you consider the problem of spam detection to be a supervised or unsupervised learning problem?\n",
    "Ans===>Spam detection is a supervised machine learning problem."
   ]
  },
  {
   "cell_type": "markdown",
   "id": "2275f718",
   "metadata": {},
   "source": [
    "# 9.What is the concept of an online learning system?\n",
    "Ans===>Online learning refers to instruction that is delivered electronically through various multimedia and Internet platforms and applications. "
   ]
  },
  {
   "cell_type": "markdown",
   "id": "5139b38d",
   "metadata": {},
   "source": [
    "# 10.What is out-of-core learning, and how does it differ from core learning?\n",
    "Ans===>It is a way to train your model on data that cannot fit your core memory.” Out-of-core learning refers to the machine learning algorithms working with data that cannot fit into a single machine's memory but can easily fit into some data storage, such as a local hard disk or web repository."
   ]
  },
  {
   "cell_type": "markdown",
   "id": "535fcdfb",
   "metadata": {},
   "source": [
    "# 11.What kind of learning algorithm makes predictions using a similarity measure?\n",
    "Ans===>Learning algorithm that relies on a similarity measure to make predictions is instance-based algorithm.\n"
   ]
  },
  {
   "cell_type": "markdown",
   "id": "39311827",
   "metadata": {},
   "source": [
    "# 12.What is the difference between a model parameter and a hyperparameter in a learning algorithm?\n",
    "Ans===>Model Parameters: These are the parameters in the model that must be determined using the training data set. These are the fitted parameters. Hyperparameters: These are adjustable parameters that must be tuned in order to obtain a model with optimal performance."
   ]
  },
  {
   "cell_type": "markdown",
   "id": "99e0a62c",
   "metadata": {},
   "source": [
    "# 13.What are the criteria that model-based learning algorithms look for? What is the most popular method they use to achieve success? What method do they use to make predictions?\n",
    "Ans===>Model based learning algorithm search for the optimal value of parameters in a model that will give the best results for the new instances. "
   ]
  },
  {
   "cell_type": "markdown",
   "id": "6cd5f44a",
   "metadata": {},
   "source": [
    "# 14.Can you name four of the most important Machine Learning challenges?\n",
    "Ans.Overfitting,Underfitting,Imbalance data,lack of data"
   ]
  },
  {
   "cell_type": "markdown",
   "id": "740a5bcc",
   "metadata": {},
   "source": [
    "# 15.What happens if the model performs well on the training data but fails to generalize the results to new situations? Can you think of three different options?\n",
    "\n",
    "Ans===>When the model memorizes the noise and fits too closely to the training set, the model becomes “overfitted,” and it is unable to generalize well to new data. If a model cannot generalize well to new data, then it will not be able to perform the classification or prediction tasks that it was intended for."
   ]
  },
  {
   "cell_type": "markdown",
   "id": "07c5cf6d",
   "metadata": {},
   "source": [
    "# 16.What exactly is a test set, and why would you need one?\n",
    "Ans===>A test set is a portion of a data set used in data mining to assess the likely future performance of a single prediction or classification model that has been selected from among competing models, based on its performance with the validation set."
   ]
  },
  {
   "cell_type": "markdown",
   "id": "1c6db9ff",
   "metadata": {},
   "source": [
    "# 17.What is a validation set's purpose?\n",
    "Ans===>A validation set is a set of data used to train artificial intelligence (AI) with the goal of finding and optimizing the best model to solve a given problem."
   ]
  },
  {
   "cell_type": "code",
   "execution_count": null,
   "id": "bc8281f6",
   "metadata": {},
   "outputs": [],
   "source": []
  }
 ],
 "metadata": {
  "kernelspec": {
   "display_name": "Python 3 (ipykernel)",
   "language": "python",
   "name": "python3"
  },
  "language_info": {
   "codemirror_mode": {
    "name": "ipython",
    "version": 3
   },
   "file_extension": ".py",
   "mimetype": "text/x-python",
   "name": "python",
   "nbconvert_exporter": "python",
   "pygments_lexer": "ipython3",
   "version": "3.9.0"
  }
 },
 "nbformat": 4,
 "nbformat_minor": 5
}
